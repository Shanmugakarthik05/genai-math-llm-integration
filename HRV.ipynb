{
 "cells": [
  {
   "cell_type": "code",
   "execution_count": 1,
   "id": "cd912617",
   "metadata": {
    "height": 115
   },
   "outputs": [],
   "source": [
    "import os\n",
    "import openai\n",
    "\n",
    "from dotenv import load_dotenv, find_dotenv\n",
    "_ = load_dotenv(find_dotenv()) # read local .env file\n",
    "openai.api_key = os.environ['OPENAI_API_KEY']"
   ]
  },
  {
   "cell_type": "code",
   "execution_count": 2,
   "id": "7650b300",
   "metadata": {
    "height": 268
   },
   "outputs": [],
   "source": [
    "import json\n",
    "import math\n",
    "\n",
    "def get_cylinder_volume(radius, height):\n",
    "    \"\"\"Calculate the volume of a cylinder given its radius and height\"\"\"\n",
    "    volume = math.pi * (radius ** 2) * height\n",
    "    cylinder_info = {\n",
    "        \"radius\": radius,\n",
    "        \"height\": height,\n",
    "        \"volume\": round(volume, 2),\n",
    "        \"unit\": \"cubic units\"\n",
    "    }\n",
    "    return json.dumps(cylinder_info)\n",
    "\n"
   ]
  },
  {
   "cell_type": "code",
   "execution_count": 3,
   "id": "dda13f11",
   "metadata": {
    "height": 370
   },
   "outputs": [],
   "source": [
    "functions = [\n",
    "    {\n",
    "        \"name\": \"get_cylinder_volume\",\n",
    "        \"description\": \"Calculate the volume of a cylinder given its radius and height\",\n",
    "        \"parameters\": {\n",
    "            \"type\": \"object\",\n",
    "            \"properties\": {\n",
    "                \"radius\": {\n",
    "                    \"type\": \"number\",\n",
    "                    \"description\": \"The radius of the cylinder base in units\",\n",
    "                },\n",
    "                \"height\": {\n",
    "                    \"type\": \"number\",\n",
    "                    \"description\": \"The height of the cylinder in units\",\n",
    "                }\n",
    "            },\n",
    "            \"required\": [\"radius\", \"height\"],\n",
    "        },\n",
    "    }\n",
    "]\n"
   ]
  },
  {
   "cell_type": "code",
   "execution_count": 4,
   "id": "b97c26b8",
   "metadata": {
    "height": 132
   },
   "outputs": [],
   "source": [
    "messages = [\n",
    "    {\n",
    "        \"role\": \"user\",\n",
    "        \"content\": \"What is the volume of a cylinder with radius 5 and height 10?\"\n",
    "    }\n",
    "]\n"
   ]
  },
  {
   "cell_type": "code",
   "execution_count": 5,
   "id": "f56643c8",
   "metadata": {
    "height": 30
   },
   "outputs": [],
   "source": [
    "import openai"
   ]
  },
  {
   "cell_type": "code",
   "execution_count": 6,
   "id": "181f4f8b",
   "metadata": {
    "height": 132
   },
   "outputs": [],
   "source": [
    "# Call the ChatCompletion endpoint\n",
    "response = openai.ChatCompletion.create(\n",
    "    # OpenAI Updates: As of June 2024, we are now using the GPT-3.5-Turbo model\n",
    "    model=\"gpt-4-turbo\",\n",
    "    messages=messages,\n",
    "    functions=functions\n",
    ")"
   ]
  },
  {
   "cell_type": "code",
   "execution_count": 7,
   "id": "540f58c0",
   "metadata": {
    "height": 30
   },
   "outputs": [
    {
     "name": "stdout",
     "output_type": "stream",
     "text": [
      "{\n",
      "  \"id\": \"chatcmpl-BDmL36x7nSeIXVRwFtxmWL54y43CD\",\n",
      "  \"object\": \"chat.completion\",\n",
      "  \"created\": 1742623777,\n",
      "  \"model\": \"gpt-4-turbo-2024-04-09\",\n",
      "  \"choices\": [\n",
      "    {\n",
      "      \"index\": 0,\n",
      "      \"message\": {\n",
      "        \"role\": \"assistant\",\n",
      "        \"content\": null,\n",
      "        \"function_call\": {\n",
      "          \"name\": \"get_cylinder_volume\",\n",
      "          \"arguments\": \"{\\\"radius\\\":5,\\\"height\\\":10}\"\n",
      "        },\n",
      "        \"refusal\": null,\n",
      "        \"annotations\": []\n",
      "      },\n",
      "      \"logprobs\": null,\n",
      "      \"finish_reason\": \"function_call\"\n",
      "    }\n",
      "  ],\n",
      "  \"usage\": {\n",
      "    \"prompt_tokens\": 92,\n",
      "    \"completion_tokens\": 21,\n",
      "    \"total_tokens\": 113,\n",
      "    \"prompt_tokens_details\": {\n",
      "      \"cached_tokens\": 0,\n",
      "      \"audio_tokens\": 0\n",
      "    },\n",
      "    \"completion_tokens_details\": {\n",
      "      \"reasoning_tokens\": 0,\n",
      "      \"audio_tokens\": 0,\n",
      "      \"accepted_prediction_tokens\": 0,\n",
      "      \"rejected_prediction_tokens\": 0\n",
      "    }\n",
      "  },\n",
      "  \"service_tier\": \"default\",\n",
      "  \"system_fingerprint\": \"fp_101a39fff3\"\n",
      "}\n"
     ]
    }
   ],
   "source": [
    "print(response)"
   ]
  },
  {
   "cell_type": "code",
   "execution_count": 8,
   "id": "578175b6",
   "metadata": {
    "height": 30
   },
   "outputs": [],
   "source": [
    "response_message = response[\"choices\"][0][\"message\"]"
   ]
  },
  {
   "cell_type": "code",
   "execution_count": 9,
   "id": "916ed4e2",
   "metadata": {
    "height": 30
   },
   "outputs": [
    {
     "data": {
      "text/plain": [
       "<OpenAIObject at 0x7f49005f5bd0> JSON: {\n",
       "  \"role\": \"assistant\",\n",
       "  \"content\": null,\n",
       "  \"function_call\": {\n",
       "    \"name\": \"get_cylinder_volume\",\n",
       "    \"arguments\": \"{\\\"radius\\\":5,\\\"height\\\":10}\"\n",
       "  },\n",
       "  \"refusal\": null,\n",
       "  \"annotations\": []\n",
       "}"
      ]
     },
     "execution_count": 9,
     "metadata": {},
     "output_type": "execute_result"
    }
   ],
   "source": [
    "response_message"
   ]
  },
  {
   "cell_type": "code",
   "execution_count": 10,
   "id": "a2562292",
   "metadata": {
    "height": 30
   },
   "outputs": [],
   "source": [
    "response_message[\"content\"]"
   ]
  },
  {
   "cell_type": "code",
   "execution_count": 11,
   "id": "03963609",
   "metadata": {
    "height": 30
   },
   "outputs": [
    {
     "data": {
      "text/plain": [
       "<OpenAIObject at 0x7f49005f5ef0> JSON: {\n",
       "  \"name\": \"get_cylinder_volume\",\n",
       "  \"arguments\": \"{\\\"radius\\\":5,\\\"height\\\":10}\"\n",
       "}"
      ]
     },
     "execution_count": 11,
     "metadata": {},
     "output_type": "execute_result"
    }
   ],
   "source": [
    "response_message[\"function_call\"]"
   ]
  },
  {
   "cell_type": "code",
   "execution_count": 12,
   "id": "c1c0a193",
   "metadata": {
    "height": 30
   },
   "outputs": [
    {
     "data": {
      "text/plain": [
       "{'radius': 5, 'height': 10}"
      ]
     },
     "execution_count": 12,
     "metadata": {},
     "output_type": "execute_result"
    }
   ],
   "source": [
    "json.loads(response_message[\"function_call\"][\"arguments\"])"
   ]
  },
  {
   "cell_type": "code",
   "execution_count": 13,
   "id": "2d1719d7",
   "metadata": {
    "height": 30
   },
   "outputs": [
    {
     "data": {
      "text/plain": [
       "{'radius': 5, 'height': 10}"
      ]
     },
     "execution_count": 13,
     "metadata": {},
     "output_type": "execute_result"
    }
   ],
   "source": [
    "json.loads(response_message[\"function_call\"][\"arguments\"])"
   ]
  },
  {
   "cell_type": "code",
   "execution_count": 14,
   "id": "77087693",
   "metadata": {
    "height": 30
   },
   "outputs": [],
   "source": [
    "args = json.loads(response_message[\"function_call\"][\"arguments\"])"
   ]
  },
  {
   "cell_type": "code",
   "execution_count": 15,
   "id": "1049ec2d",
   "metadata": {
    "height": 30
   },
   "outputs": [
    {
     "data": {
      "text/plain": [
       "'{\"radius\": 5, \"height\": 10, \"volume\": 785.4, \"unit\": \"cubic units\"}'"
      ]
     },
     "execution_count": 15,
     "metadata": {},
     "output_type": "execute_result"
    }
   ],
   "source": [
    "get_cylinder_volume(**args)"
   ]
  },
  {
   "cell_type": "code",
   "execution_count": null,
   "id": "b5acc39d",
   "metadata": {
    "height": 30
   },
   "outputs": [],
   "source": []
  }
 ],
 "metadata": {
  "kernelspec": {
   "display_name": "Python 3 (ipykernel)",
   "language": "python",
   "name": "python3"
  },
  "language_info": {
   "codemirror_mode": {
    "name": "ipython",
    "version": 3
   },
   "file_extension": ".py",
   "mimetype": "text/x-python",
   "name": "python",
   "nbconvert_exporter": "python",
   "pygments_lexer": "ipython3",
   "version": "3.9.19"
  }
 },
 "nbformat": 4,
 "nbformat_minor": 5
}
